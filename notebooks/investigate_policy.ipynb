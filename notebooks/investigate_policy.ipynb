{
 "cells": [
  {
   "cell_type": "code",
   "execution_count": 1,
   "metadata": {},
   "outputs": [],
   "source": [
    "\n",
    "from pathlib import Path\n",
    "import os\n",
    "while not (Path.cwd() / \"pyproject.toml\").exists():\n",
    "    os.chdir(\"..\")\n",
    "\n",
    "from twfy_votes.apps.policies.vr_validator import get_scores_slow\n",
    "\n",
    "from twfy_votes.apps.core.db import load_common_core\n",
    "\n",
    "policy_dir = Path(\"data\", \"policies\")\n",
    "\n",
    "duck_core = await load_common_core()\n",
    "duck = await duck_core.child_query()"
   ]
  },
  {
   "cell_type": "code",
   "execution_count": 3,
   "metadata": {},
   "outputs": [
    {
     "data": {
      "text/html": [
       "<pre style=\"white-space:pre;overflow-x:auto;line-height:normal;font-family:Menlo,'DejaVu Sans Mono',consolas,'Courier New',monospace\"><span style=\"color: #800080; text-decoration-color: #800080; font-weight: bold\">PolicyComparison</span><span style=\"font-weight: bold\">(</span>\n",
       "    <span style=\"color: #808000; text-decoration-color: #808000\">target_distribution</span>=<span style=\"color: #800080; text-decoration-color: #800080; font-weight: bold\">Score</span><span style=\"font-weight: bold\">(</span>\n",
       "        <span style=\"color: #808000; text-decoration-color: #808000\">num_votes_same</span>=<span style=\"color: #008080; text-decoration-color: #008080; font-weight: bold\">0.0</span>,\n",
       "        <span style=\"color: #808000; text-decoration-color: #808000\">num_strong_votes_same</span>=<span style=\"color: #008080; text-decoration-color: #008080; font-weight: bold\">1.0</span>,\n",
       "        <span style=\"color: #808000; text-decoration-color: #808000\">num_votes_different</span>=<span style=\"color: #008080; text-decoration-color: #008080; font-weight: bold\">0.0</span>,\n",
       "        <span style=\"color: #808000; text-decoration-color: #808000\">num_strong_votes_different</span>=<span style=\"color: #008080; text-decoration-color: #008080; font-weight: bold\">1.0</span>,\n",
       "        <span style=\"color: #808000; text-decoration-color: #808000\">num_votes_absent</span>=<span style=\"color: #008080; text-decoration-color: #008080; font-weight: bold\">0.0</span>,\n",
       "        <span style=\"color: #808000; text-decoration-color: #808000\">num_strong_votes_absent</span>=<span style=\"color: #008080; text-decoration-color: #008080; font-weight: bold\">1.0</span>,\n",
       "        <span style=\"color: #808000; text-decoration-color: #808000\">num_votes_abstained</span>=<span style=\"color: #008080; text-decoration-color: #008080; font-weight: bold\">0.0</span>,\n",
       "        <span style=\"color: #808000; text-decoration-color: #808000\">num_strong_votes_abstained</span>=<span style=\"color: #008080; text-decoration-color: #008080; font-weight: bold\">0.0</span>,\n",
       "        <span style=\"color: #808000; text-decoration-color: #808000\">num_agreements_same</span>=<span style=\"color: #008080; text-decoration-color: #008080; font-weight: bold\">0.0</span>,\n",
       "        <span style=\"color: #808000; text-decoration-color: #808000\">num_strong_agreements_same</span>=<span style=\"color: #008080; text-decoration-color: #008080; font-weight: bold\">2.0</span>,\n",
       "        <span style=\"color: #808000; text-decoration-color: #808000\">num_agreements_different</span>=<span style=\"color: #008080; text-decoration-color: #008080; font-weight: bold\">0.0</span>,\n",
       "        <span style=\"color: #808000; text-decoration-color: #808000\">num_strong_agreements_different</span>=<span style=\"color: #008080; text-decoration-color: #008080; font-weight: bold\">0.0</span>,\n",
       "        <span style=\"color: #808000; text-decoration-color: #808000\">num_comparators</span>=<span style=\"font-weight: bold\">[</span><span style=\"color: #008080; text-decoration-color: #008080; font-weight: bold\">1</span>, <span style=\"color: #008080; text-decoration-color: #008080; font-weight: bold\">1</span>, <span style=\"color: #008080; text-decoration-color: #008080; font-weight: bold\">1</span><span style=\"font-weight: bold\">]</span>,\n",
       "        <span style=\"color: #808000; text-decoration-color: #808000\">total_votes</span>=<span style=\"color: #008080; text-decoration-color: #008080; font-weight: bold\">3.0</span>\n",
       "    <span style=\"font-weight: bold\">)</span>,\n",
       "    <span style=\"color: #808000; text-decoration-color: #808000\">other_distribution</span>=<span style=\"color: #800080; text-decoration-color: #800080; font-weight: bold\">Score</span><span style=\"font-weight: bold\">(</span>\n",
       "        <span style=\"color: #808000; text-decoration-color: #808000\">num_votes_same</span>=<span style=\"color: #008080; text-decoration-color: #008080; font-weight: bold\">0.0</span>,\n",
       "        <span style=\"color: #808000; text-decoration-color: #808000\">num_strong_votes_same</span>=<span style=\"color: #008080; text-decoration-color: #008080; font-weight: bold\">0.45031834792357583</span>,\n",
       "        <span style=\"color: #808000; text-decoration-color: #808000\">num_votes_different</span>=<span style=\"color: #008080; text-decoration-color: #008080; font-weight: bold\">0.0</span>,\n",
       "        <span style=\"color: #808000; text-decoration-color: #808000\">num_strong_votes_different</span>=<span style=\"color: #008080; text-decoration-color: #008080; font-weight: bold\">0.7972624532806349</span>,\n",
       "        <span style=\"color: #808000; text-decoration-color: #808000\">num_votes_absent</span>=<span style=\"color: #008080; text-decoration-color: #008080; font-weight: bold\">0.0</span>,\n",
       "        <span style=\"color: #808000; text-decoration-color: #808000\">num_strong_votes_absent</span>=<span style=\"color: #008080; text-decoration-color: #008080; font-weight: bold\">1.749594340038727</span>,\n",
       "        <span style=\"color: #808000; text-decoration-color: #808000\">num_votes_abstained</span>=<span style=\"color: #008080; text-decoration-color: #008080; font-weight: bold\">0.0</span>,\n",
       "        <span style=\"color: #808000; text-decoration-color: #808000\">num_strong_votes_abstained</span>=<span style=\"color: #008080; text-decoration-color: #008080; font-weight: bold\">0.002824858757062147</span>,\n",
       "        <span style=\"color: #808000; text-decoration-color: #808000\">num_agreements_same</span>=<span style=\"color: #008080; text-decoration-color: #008080; font-weight: bold\">0.0</span>,\n",
       "        <span style=\"color: #808000; text-decoration-color: #808000\">num_strong_agreements_same</span>=<span style=\"color: #008080; text-decoration-color: #008080; font-weight: bold\">0.0</span>,\n",
       "        <span style=\"color: #808000; text-decoration-color: #808000\">num_agreements_different</span>=<span style=\"color: #008080; text-decoration-color: #008080; font-weight: bold\">0.0</span>,\n",
       "        <span style=\"color: #808000; text-decoration-color: #808000\">num_strong_agreements_different</span>=<span style=\"color: #008080; text-decoration-color: #008080; font-weight: bold\">0.0</span>,\n",
       "        <span style=\"color: #808000; text-decoration-color: #808000\">num_comparators</span>=<span style=\"font-weight: bold\">[</span><span style=\"color: #008080; text-decoration-color: #008080; font-weight: bold\">352</span>, <span style=\"color: #008080; text-decoration-color: #008080; font-weight: bold\">361</span>, <span style=\"color: #008080; text-decoration-color: #008080; font-weight: bold\">354</span><span style=\"font-weight: bold\">]</span>,\n",
       "        <span style=\"color: #808000; text-decoration-color: #808000\">total_votes</span>=<span style=\"color: #008080; text-decoration-color: #008080; font-weight: bold\">3.0</span>\n",
       "    <span style=\"font-weight: bold\">)</span>\n",
       "<span style=\"font-weight: bold\">)</span>\n",
       "</pre>\n"
      ],
      "text/plain": [
       "\u001b[1;35mPolicyComparison\u001b[0m\u001b[1m(\u001b[0m\n",
       "    \u001b[33mtarget_distribution\u001b[0m=\u001b[1;35mScore\u001b[0m\u001b[1m(\u001b[0m\n",
       "        \u001b[33mnum_votes_same\u001b[0m=\u001b[1;36m0\u001b[0m\u001b[1;36m.0\u001b[0m,\n",
       "        \u001b[33mnum_strong_votes_same\u001b[0m=\u001b[1;36m1\u001b[0m\u001b[1;36m.0\u001b[0m,\n",
       "        \u001b[33mnum_votes_different\u001b[0m=\u001b[1;36m0\u001b[0m\u001b[1;36m.0\u001b[0m,\n",
       "        \u001b[33mnum_strong_votes_different\u001b[0m=\u001b[1;36m1\u001b[0m\u001b[1;36m.0\u001b[0m,\n",
       "        \u001b[33mnum_votes_absent\u001b[0m=\u001b[1;36m0\u001b[0m\u001b[1;36m.0\u001b[0m,\n",
       "        \u001b[33mnum_strong_votes_absent\u001b[0m=\u001b[1;36m1\u001b[0m\u001b[1;36m.0\u001b[0m,\n",
       "        \u001b[33mnum_votes_abstained\u001b[0m=\u001b[1;36m0\u001b[0m\u001b[1;36m.0\u001b[0m,\n",
       "        \u001b[33mnum_strong_votes_abstained\u001b[0m=\u001b[1;36m0\u001b[0m\u001b[1;36m.0\u001b[0m,\n",
       "        \u001b[33mnum_agreements_same\u001b[0m=\u001b[1;36m0\u001b[0m\u001b[1;36m.0\u001b[0m,\n",
       "        \u001b[33mnum_strong_agreements_same\u001b[0m=\u001b[1;36m2\u001b[0m\u001b[1;36m.0\u001b[0m,\n",
       "        \u001b[33mnum_agreements_different\u001b[0m=\u001b[1;36m0\u001b[0m\u001b[1;36m.0\u001b[0m,\n",
       "        \u001b[33mnum_strong_agreements_different\u001b[0m=\u001b[1;36m0\u001b[0m\u001b[1;36m.0\u001b[0m,\n",
       "        \u001b[33mnum_comparators\u001b[0m=\u001b[1m[\u001b[0m\u001b[1;36m1\u001b[0m, \u001b[1;36m1\u001b[0m, \u001b[1;36m1\u001b[0m\u001b[1m]\u001b[0m,\n",
       "        \u001b[33mtotal_votes\u001b[0m=\u001b[1;36m3\u001b[0m\u001b[1;36m.0\u001b[0m\n",
       "    \u001b[1m)\u001b[0m,\n",
       "    \u001b[33mother_distribution\u001b[0m=\u001b[1;35mScore\u001b[0m\u001b[1m(\u001b[0m\n",
       "        \u001b[33mnum_votes_same\u001b[0m=\u001b[1;36m0\u001b[0m\u001b[1;36m.0\u001b[0m,\n",
       "        \u001b[33mnum_strong_votes_same\u001b[0m=\u001b[1;36m0\u001b[0m\u001b[1;36m.45031834792357583\u001b[0m,\n",
       "        \u001b[33mnum_votes_different\u001b[0m=\u001b[1;36m0\u001b[0m\u001b[1;36m.0\u001b[0m,\n",
       "        \u001b[33mnum_strong_votes_different\u001b[0m=\u001b[1;36m0\u001b[0m\u001b[1;36m.7972624532806349\u001b[0m,\n",
       "        \u001b[33mnum_votes_absent\u001b[0m=\u001b[1;36m0\u001b[0m\u001b[1;36m.0\u001b[0m,\n",
       "        \u001b[33mnum_strong_votes_absent\u001b[0m=\u001b[1;36m1\u001b[0m\u001b[1;36m.749594340038727\u001b[0m,\n",
       "        \u001b[33mnum_votes_abstained\u001b[0m=\u001b[1;36m0\u001b[0m\u001b[1;36m.0\u001b[0m,\n",
       "        \u001b[33mnum_strong_votes_abstained\u001b[0m=\u001b[1;36m0\u001b[0m\u001b[1;36m.002824858757062147\u001b[0m,\n",
       "        \u001b[33mnum_agreements_same\u001b[0m=\u001b[1;36m0\u001b[0m\u001b[1;36m.0\u001b[0m,\n",
       "        \u001b[33mnum_strong_agreements_same\u001b[0m=\u001b[1;36m0\u001b[0m\u001b[1;36m.0\u001b[0m,\n",
       "        \u001b[33mnum_agreements_different\u001b[0m=\u001b[1;36m0\u001b[0m\u001b[1;36m.0\u001b[0m,\n",
       "        \u001b[33mnum_strong_agreements_different\u001b[0m=\u001b[1;36m0\u001b[0m\u001b[1;36m.0\u001b[0m,\n",
       "        \u001b[33mnum_comparators\u001b[0m=\u001b[1m[\u001b[0m\u001b[1;36m352\u001b[0m, \u001b[1;36m361\u001b[0m, \u001b[1;36m354\u001b[0m\u001b[1m]\u001b[0m,\n",
       "        \u001b[33mtotal_votes\u001b[0m=\u001b[1;36m3\u001b[0m\u001b[1;36m.0\u001b[0m\n",
       "    \u001b[1m)\u001b[0m\n",
       "\u001b[1m)\u001b[0m\n"
      ]
     },
     "metadata": {},
     "output_type": "display_data"
    }
   ],
   "source": [
    "import rich\n",
    "\n",
    "result = await get_scores_slow(person_id=25907, policy_id=20001, party=\"conservative\")\n",
    "\n",
    "rich.print(result)"
   ]
  },
  {
   "cell_type": "code",
   "execution_count": 6,
   "metadata": {},
   "outputs": [
    {
     "data": {
      "text/plain": [
       "0.25"
      ]
     },
     "execution_count": 6,
     "metadata": {},
     "output_type": "execute_result"
    }
   ],
   "source": [
    "from twfy_votes.apps.policies.scoring import ScoreFloatPair, SimplifiedScore, PublicWhipScore\n",
    "\n",
    "mp_score = result.target_distribution\n",
    "\n",
    "score = SimplifiedScore.score(\n",
    "    votes_same=ScoreFloatPair(\n",
    "        weak=mp_score.num_votes_same, strong=mp_score.num_strong_votes_same\n",
    "    ),\n",
    "    votes_different=ScoreFloatPair(\n",
    "        weak=mp_score.num_votes_different, strong=mp_score.num_strong_votes_different\n",
    "    ),\n",
    "    votes_absent=ScoreFloatPair(\n",
    "        weak=mp_score.num_votes_absent, strong=mp_score.num_strong_votes_absent\n",
    "    ),\n",
    "    votes_abstain=ScoreFloatPair(\n",
    "        weak=mp_score.num_votes_abstained, strong=mp_score.num_votes_abstained\n",
    "    ),\n",
    "    agreements_same=ScoreFloatPair(\n",
    "        weak=mp_score.num_agreements_same, strong=mp_score.num_strong_agreements_same\n",
    "    ),\n",
    "    agreements_different=ScoreFloatPair(\n",
    "        weak=mp_score.num_agreements_different,\n",
    "        strong=mp_score.num_strong_agreements_different,\n",
    "    ),\n",
    ")\n",
    "\n",
    "score"
   ]
  }
 ],
 "metadata": {
  "kernelspec": {
   "display_name": "Python 3",
   "language": "python",
   "name": "python3"
  },
  "language_info": {
   "codemirror_mode": {
    "name": "ipython",
    "version": 3
   },
   "file_extension": ".py",
   "mimetype": "text/x-python",
   "name": "python",
   "nbconvert_exporter": "python",
   "pygments_lexer": "ipython3",
   "version": "3.10.14"
  }
 },
 "nbformat": 4,
 "nbformat_minor": 2
}
