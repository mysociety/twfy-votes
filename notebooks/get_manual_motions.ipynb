{
 "cells": [
  {
   "cell_type": "code",
   "execution_count": 8,
   "metadata": {},
   "outputs": [],
   "source": [
    "# This notebook extract motions previously manually extracted from public whip and stores as a yaml\n",
    "\n",
    "from pathlib import Path\n",
    "import os\n",
    "import re\n",
    "import pandas as pd\n",
    "from datetime import date\n",
    "from ruamel.yaml import YAML\n",
    "\n",
    "while not (Path.cwd() / \"pyproject.toml\").exists():\n",
    "    os.chdir(\"..\")\n",
    "\n",
    "from twfy_votes.internal.db import duck_core\n",
    "from twfy_votes.apps.legacy.data_sources import duck as tables_duck\n",
    "\n",
    "\n",
    "duck = await duck_core.get_core()\n",
    "\n",
    "await duck.compile(tables_duck).run()"
   ]
  },
  {
   "cell_type": "code",
   "execution_count": 9,
   "metadata": {},
   "outputs": [],
   "source": [
    "query = \"\"\"\n",
    "SELECt\n",
    "    division_date,\n",
    "    division_number,\n",
    "    house as chamber,\n",
    "    last(text_body) as text_body,\n",
    "FROM\n",
    "    pw_dyn_wiki_motion\n",
    "GROUP BY\n",
    "    all\n",
    "\n",
    "\"\"\"\n",
    "\n",
    "\n",
    "def extract_motion_text(item: str) -> str:\n",
    "    # get text between --- MOTION EFFECT --- and --- COMMENTS AND NOTES ---\n",
    "    try:\n",
    "        return (\n",
    "            item.split(\"--- MOTION EFFECT ---\")[1]\n",
    "            .split(\"--- COMMENTS AND NOTES ---\")[0]\n",
    "            .strip()\n",
    "            .replace(\"\\r\\n\\r\\n\", \"\\n\")\n",
    "        )\n",
    "    except IndexError:\n",
    "        return item\n",
    "\n",
    "\n",
    "df = await duck.compile(query).df()\n",
    "\n",
    "df[\"manual_motion\"] = df[\"text_body\"].apply(extract_motion_text)\n",
    "df = df.drop(columns=[\"text_body\"])\n",
    "\n",
    "\n",
    "items = df.to_dict(\"records\")\n",
    "\n",
    "dest = Path(\"data\", \"divisions\", \"manual_motions.yaml\")\n",
    "\n",
    "yaml = YAML()\n",
    "yaml.default_flow_style = False\n",
    "yaml.dump(items, dest)"
   ]
  }
 ],
 "metadata": {
  "kernelspec": {
   "display_name": "Python 3",
   "language": "python",
   "name": "python3"
  },
  "language_info": {
   "codemirror_mode": {
    "name": "ipython",
    "version": 3
   },
   "file_extension": ".py",
   "mimetype": "text/x-python",
   "name": "python",
   "nbconvert_exporter": "python",
   "pygments_lexer": "ipython3",
   "version": "3.10.13"
  }
 },
 "nbformat": 4,
 "nbformat_minor": 2
}
